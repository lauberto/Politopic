{
  "nbformat": 4,
  "nbformat_minor": 0,
  "metadata": {
    "colab": {
      "provenance": [],
      "authorship_tag": "ABX9TyMgqWEXfjEl9Py84ktYoLNI",
      "include_colab_link": true
    },
    "kernelspec": {
      "name": "python3",
      "display_name": "Python 3"
    },
    "language_info": {
      "name": "python"
    }
  },
  "cells": [
    {
      "cell_type": "markdown",
      "metadata": {
        "id": "view-in-github",
        "colab_type": "text"
      },
      "source": [
        "<a href=\"https://colab.research.google.com/github/lauberto/politopic/blob/main/notebook/demo.ipynb\" target=\"_parent\"><img src=\"https://colab.research.google.com/assets/colab-badge.svg\" alt=\"Open In Colab\"/></a>"
      ]
    },
    {
      "cell_type": "markdown",
      "source": [
        "# Topic Modelling on Politicians' speech\n",
        "\n",
        "This notebook shows how to apply topic modelling on the transcription of yt videos with Politicians' speech. The transcription is performed with [`whisper`](https://github.com/openai/whisper)."
      ],
      "metadata": {
        "id": "G88tTx3LYG3H"
      }
    },
    {
      "cell_type": "markdown",
      "source": [
        "## Installing dependencies"
      ],
      "metadata": {
        "id": "33vwa3iihjsH"
      }
    },
    {
      "cell_type": "code",
      "source": [
        "from google.colab import drive\n",
        "drive.mount('/content/drive')"
      ],
      "metadata": {
        "colab": {
          "base_uri": "https://localhost:8080/"
        },
        "id": "RKiJ9X7Ao6TD",
        "outputId": "ee322b52-19cf-452e-c452-fd78e4f328e6"
      },
      "execution_count": 9,
      "outputs": [
        {
          "output_type": "stream",
          "name": "stdout",
          "text": [
            "Mounted at /content/drive\n"
          ]
        }
      ]
    },
    {
      "cell_type": "code",
      "source": [
        "!sudo apt update && sudo apt install ffmpeg"
      ],
      "metadata": {
        "colab": {
          "base_uri": "https://localhost:8080/"
        },
        "id": "qaXoSMK-esAf",
        "outputId": "8be6027e-7bb9-466e-a65a-15e6a947ca26"
      },
      "execution_count": 1,
      "outputs": [
        {
          "output_type": "stream",
          "name": "stdout",
          "text": [
            "\u001b[33m\r0% [Working]\u001b[0m\r            \rGet:1 https://cloud.r-project.org/bin/linux/ubuntu bionic-cran40/ InRelease [3,626 B]\n",
            "Get:2 http://security.ubuntu.com/ubuntu bionic-security InRelease [88.7 kB]\n",
            "Hit:3 http://archive.ubuntu.com/ubuntu bionic InRelease\n",
            "Get:4 http://ppa.launchpad.net/c2d4u.team/c2d4u4.0+/ubuntu bionic InRelease [15.9 kB]\n",
            "Ign:5 https://developer.download.nvidia.com/compute/machine-learning/repos/ubuntu1804/x86_64  InRelease\n",
            "Get:6 https://developer.download.nvidia.com/compute/cuda/repos/ubuntu1804/x86_64  InRelease [1,581 B]\n",
            "Hit:7 https://developer.download.nvidia.com/compute/machine-learning/repos/ubuntu1804/x86_64  Release\n",
            "Get:8 http://archive.ubuntu.com/ubuntu bionic-updates InRelease [88.7 kB]\n",
            "Get:9 http://security.ubuntu.com/ubuntu bionic-security/universe amd64 Packages [1,567 kB]\n",
            "Hit:10 http://ppa.launchpad.net/cran/libgit2/ubuntu bionic InRelease\n",
            "Get:11 http://security.ubuntu.com/ubuntu bionic-security/main amd64 Packages [3,095 kB]\n",
            "Get:12 http://archive.ubuntu.com/ubuntu bionic-backports InRelease [83.3 kB]\n",
            "Get:13 http://ppa.launchpad.net/deadsnakes/ppa/ubuntu bionic InRelease [15.9 kB]\n",
            "Get:14 https://developer.download.nvidia.com/compute/cuda/repos/ubuntu1804/x86_64  Packages [1,056 kB]\n",
            "Hit:15 http://ppa.launchpad.net/graphics-drivers/ppa/ubuntu bionic InRelease\n",
            "Get:17 http://ppa.launchpad.net/c2d4u.team/c2d4u4.0+/ubuntu bionic/main Sources [2,234 kB]\n",
            "Get:18 http://archive.ubuntu.com/ubuntu bionic-updates/universe amd64 Packages [2,342 kB]\n",
            "Get:19 http://archive.ubuntu.com/ubuntu bionic-updates/main amd64 Packages [3,519 kB]\n",
            "Get:20 http://ppa.launchpad.net/c2d4u.team/c2d4u4.0+/ubuntu bionic/main amd64 Packages [1,143 kB]\n",
            "Get:21 http://ppa.launchpad.net/deadsnakes/ppa/ubuntu bionic/main amd64 Packages [43.9 kB]\n",
            "Fetched 15.3 MB in 3s (6,100 kB/s)\n",
            "Reading package lists... Done\n",
            "Building dependency tree       \n",
            "Reading state information... Done\n",
            "23 packages can be upgraded. Run 'apt list --upgradable' to see them.\n",
            "Reading package lists... Done\n",
            "Building dependency tree       \n",
            "Reading state information... Done\n",
            "ffmpeg is already the newest version (7:3.4.11-0ubuntu0.1).\n",
            "The following package was automatically installed and is no longer required:\n",
            "  libnvidia-common-460\n",
            "Use 'sudo apt autoremove' to remove it.\n",
            "0 upgraded, 0 newly installed, 0 to remove and 23 not upgraded.\n"
          ]
        }
      ]
    },
    {
      "cell_type": "code",
      "source": [
        "# Installing whisper\n",
        "!pip install git+https://github.com/openai/whisper.git "
      ],
      "metadata": {
        "colab": {
          "base_uri": "https://localhost:8080/"
        },
        "id": "8OjGFAlTZxHq",
        "outputId": "e1e383be-8273-4080-cf50-5f20e5f153ba"
      },
      "execution_count": 2,
      "outputs": [
        {
          "output_type": "stream",
          "name": "stdout",
          "text": [
            "Looking in indexes: https://pypi.org/simple, https://us-python.pkg.dev/colab-wheels/public/simple/\n",
            "Collecting git+https://github.com/openai/whisper.git\n",
            "  Cloning https://github.com/openai/whisper.git to /tmp/pip-req-build-8e332mz2\n",
            "  Running command git clone -q https://github.com/openai/whisper.git /tmp/pip-req-build-8e332mz2\n",
            "Requirement already satisfied: numpy in /usr/local/lib/python3.8/dist-packages (from whisper==1.0) (1.21.6)\n",
            "Requirement already satisfied: torch in /usr/local/lib/python3.8/dist-packages (from whisper==1.0) (1.12.1+cu113)\n",
            "Requirement already satisfied: tqdm in /usr/local/lib/python3.8/dist-packages (from whisper==1.0) (4.64.1)\n",
            "Requirement already satisfied: more-itertools in /usr/local/lib/python3.8/dist-packages (from whisper==1.0) (9.0.0)\n",
            "Collecting transformers>=4.19.0\n",
            "  Downloading transformers-4.25.1-py3-none-any.whl (5.8 MB)\n",
            "\u001b[K     |████████████████████████████████| 5.8 MB 28.1 MB/s \n",
            "\u001b[?25hCollecting ffmpeg-python==0.2.0\n",
            "  Downloading ffmpeg_python-0.2.0-py3-none-any.whl (25 kB)\n",
            "Requirement already satisfied: future in /usr/local/lib/python3.8/dist-packages (from ffmpeg-python==0.2.0->whisper==1.0) (0.16.0)\n",
            "Requirement already satisfied: regex!=2019.12.17 in /usr/local/lib/python3.8/dist-packages (from transformers>=4.19.0->whisper==1.0) (2022.6.2)\n",
            "Requirement already satisfied: pyyaml>=5.1 in /usr/local/lib/python3.8/dist-packages (from transformers>=4.19.0->whisper==1.0) (6.0)\n",
            "Collecting huggingface-hub<1.0,>=0.10.0\n",
            "  Downloading huggingface_hub-0.11.1-py3-none-any.whl (182 kB)\n",
            "\u001b[K     |████████████████████████████████| 182 kB 86.2 MB/s \n",
            "\u001b[?25hRequirement already satisfied: packaging>=20.0 in /usr/local/lib/python3.8/dist-packages (from transformers>=4.19.0->whisper==1.0) (21.3)\n",
            "Requirement already satisfied: filelock in /usr/local/lib/python3.8/dist-packages (from transformers>=4.19.0->whisper==1.0) (3.8.0)\n",
            "Collecting tokenizers!=0.11.3,<0.14,>=0.11.1\n",
            "  Downloading tokenizers-0.13.2-cp38-cp38-manylinux_2_17_x86_64.manylinux2014_x86_64.whl (7.6 MB)\n",
            "\u001b[K     |████████████████████████████████| 7.6 MB 50.0 MB/s \n",
            "\u001b[?25hRequirement already satisfied: requests in /usr/local/lib/python3.8/dist-packages (from transformers>=4.19.0->whisper==1.0) (2.23.0)\n",
            "Requirement already satisfied: typing-extensions>=3.7.4.3 in /usr/local/lib/python3.8/dist-packages (from huggingface-hub<1.0,>=0.10.0->transformers>=4.19.0->whisper==1.0) (4.1.1)\n",
            "Requirement already satisfied: pyparsing!=3.0.5,>=2.0.2 in /usr/local/lib/python3.8/dist-packages (from packaging>=20.0->transformers>=4.19.0->whisper==1.0) (3.0.9)\n",
            "Requirement already satisfied: certifi>=2017.4.17 in /usr/local/lib/python3.8/dist-packages (from requests->transformers>=4.19.0->whisper==1.0) (2022.9.24)\n",
            "Requirement already satisfied: idna<3,>=2.5 in /usr/local/lib/python3.8/dist-packages (from requests->transformers>=4.19.0->whisper==1.0) (2.10)\n",
            "Requirement already satisfied: urllib3!=1.25.0,!=1.25.1,<1.26,>=1.21.1 in /usr/local/lib/python3.8/dist-packages (from requests->transformers>=4.19.0->whisper==1.0) (1.24.3)\n",
            "Requirement already satisfied: chardet<4,>=3.0.2 in /usr/local/lib/python3.8/dist-packages (from requests->transformers>=4.19.0->whisper==1.0) (3.0.4)\n",
            "Building wheels for collected packages: whisper\n",
            "  Building wheel for whisper (setup.py) ... \u001b[?25l\u001b[?25hdone\n",
            "  Created wheel for whisper: filename=whisper-1.0-py3-none-any.whl size=1175327 sha256=dae2e7abe1ca055adab0f26ad0492261ba4ffc11b9583d3906e74af564446bbe\n",
            "  Stored in directory: /tmp/pip-ephem-wheel-cache-ovay7ntn/wheels/a7/70/18/b7693c07b1d18b3dafb328f5d0496aa0d41a9c09ef332fd8e6\n",
            "Successfully built whisper\n",
            "Installing collected packages: tokenizers, huggingface-hub, transformers, ffmpeg-python, whisper\n",
            "Successfully installed ffmpeg-python-0.2.0 huggingface-hub-0.11.1 tokenizers-0.13.2 transformers-4.25.1 whisper-1.0\n"
          ]
        }
      ]
    },
    {
      "cell_type": "markdown",
      "source": [
        " Installing [`pytube`](https://https://github.com/pytube/pytube). and downloading the [video](https://https://www.youtube.com/watch?v=knj8ULToNvo) from youtube."
      ],
      "metadata": {
        "id": "Ct4adIANpQvX"
      }
    },
    {
      "cell_type": "code",
      "source": [
        "!pip install git+https://github.com/pytube/pytube"
      ],
      "metadata": {
        "colab": {
          "base_uri": "https://localhost:8080/"
        },
        "id": "4oavpZpUXkLp",
        "outputId": "96626d47-dd73-4fe3-a4f8-b26925479fa4"
      },
      "execution_count": 3,
      "outputs": [
        {
          "output_type": "stream",
          "name": "stdout",
          "text": [
            "Looking in indexes: https://pypi.org/simple, https://us-python.pkg.dev/colab-wheels/public/simple/\n",
            "Collecting git+https://github.com/pytube/pytube\n",
            "  Cloning https://github.com/pytube/pytube to /tmp/pip-req-build-my32wrxi\n",
            "  Running command git clone -q https://github.com/pytube/pytube /tmp/pip-req-build-my32wrxi\n",
            "Building wheels for collected packages: pytube\n",
            "  Building wheel for pytube (setup.py) ... \u001b[?25l\u001b[?25hdone\n",
            "  Created wheel for pytube: filename=pytube-12.1.0-py3-none-any.whl size=56809 sha256=13bbbb2c2a49414c1542945304ada5f564fcecac79fff5bbed0d623e3c951ee0\n",
            "  Stored in directory: /tmp/pip-ephem-wheel-cache-03e_1zep/wheels/a8/ac/8c/337af6a10cc543c5eadf4eb2bbd02bd8609b25bea729df338a\n",
            "Successfully built pytube\n",
            "Installing collected packages: pytube\n",
            "Successfully installed pytube-12.1.0\n"
          ]
        }
      ]
    },
    {
      "cell_type": "markdown",
      "source": [
        "## First Demo - Salvini's Speech at a Coldiretti Conference.\n",
        "\n",
        "Who's better than a populist far-right politician like Salvini to start with the analysis of political speeches?"
      ],
      "metadata": {
        "id": "ZOqQcd9SXdyH"
      }
    },
    {
      "cell_type": "code",
      "source": [
        "video_ids = ['knj8ULToNvo', 'wVHyFwyhQwE&t=73s', 'y1qlZ077zJI&t=162s', '4OQmieY4a-Q', 'V9w4ZtZisrs']\n",
        "video_urls = ['https://youtu.be/' + video_id for video_id in video_ids]"
      ],
      "metadata": {
        "id": "xWVfp8E6aFWj"
      },
      "execution_count": 4,
      "outputs": []
    },
    {
      "cell_type": "markdown",
      "source": [
        "### Download & Transcription\n",
        "Download the video from YouTube and transcribe it using whisper. We are going to "
      ],
      "metadata": {
        "id": "dpxhQWfOa1Nm"
      }
    },
    {
      "cell_type": "code",
      "source": [
        "import whisper\n",
        "from pytube import YouTube"
      ],
      "metadata": {
        "id": "U8l7_FVzd_kA"
      },
      "execution_count": 5,
      "outputs": []
    },
    {
      "cell_type": "code",
      "source": [
        "whisper_model = whisper.load_model('base')"
      ],
      "metadata": {
        "colab": {
          "base_uri": "https://localhost:8080/"
        },
        "id": "qDIRbhnmaoXE",
        "outputId": "8a5a86d0-8f85-4366-83e7-bd9fdd6d0265"
      },
      "execution_count": 7,
      "outputs": [
        {
          "output_type": "stream",
          "name": "stderr",
          "text": [
            "100%|███████████████████████████████████████| 139M/139M [00:05<00:00, 29.0MiB/s]\n"
          ]
        }
      ]
    },
    {
      "cell_type": "code",
      "source": [
        "titles = []\n",
        "texts = []\n",
        "\n",
        "for url in video_urls:\n",
        "  yt = YouTube(url=url)\n",
        "  titles.append(yt.title)\n",
        "  path = yt.streams.filter(only_audio=True)[0].download(filename=\"audio.mp4\")\n",
        "  transcription = whisper_model.transcribe(path)\n",
        "  texts.append(transcription[\"text\"])  "
      ],
      "metadata": {
        "colab": {
          "base_uri": "https://localhost:8080/"
        },
        "id": "rOGmGTTuaylA",
        "outputId": "179492ad-c97d-48a4-97a1-16629ba70aa7"
      },
      "execution_count": 14,
      "outputs": [
        {
          "output_type": "stream",
          "name": "stderr",
          "text": [
            "/usr/local/lib/python3.8/dist-packages/whisper/transcribe.py:78: UserWarning: FP16 is not supported on CPU; using FP32 instead\n",
            "  warnings.warn(\"FP16 is not supported on CPU; using FP32 instead\")\n"
          ]
        }
      ]
    },
    {
      "cell_type": "code",
      "source": [],
      "metadata": {
        "id": "FOarxIqrn7lu"
      },
      "execution_count": null,
      "outputs": []
    },
    {
      "cell_type": "markdown",
      "source": [
        "### Sentence segmentation"
      ],
      "metadata": {
        "id": "74tWarlojqZY"
      }
    },
    {
      "cell_type": "code",
      "source": [
        "import nltk\n",
        "\n",
        "nltk.download('punkt')"
      ],
      "metadata": {
        "colab": {
          "base_uri": "https://localhost:8080/"
        },
        "id": "-zbvY9DgkoFk",
        "outputId": "833f710e-c2cf-43d7-fba6-47a9f6ace3f0"
      },
      "execution_count": 29,
      "outputs": [
        {
          "output_type": "stream",
          "name": "stderr",
          "text": [
            "[nltk_data] Downloading package punkt to /root/nltk_data...\n",
            "[nltk_data]   Unzipping tokenizers/punkt.zip.\n"
          ]
        },
        {
          "output_type": "execute_result",
          "data": {
            "text/plain": [
              "True"
            ]
          },
          "metadata": {},
          "execution_count": 29
        }
      ]
    },
    {
      "cell_type": "code",
      "source": [
        "from nltk import sent_tokenize"
      ],
      "metadata": {
        "id": "W4R4sxA3iWpf"
      },
      "execution_count": 30,
      "outputs": []
    },
    {
      "cell_type": "code",
      "source": [
        "docs = []\n",
        "video_titles = []\n",
        "\n",
        "for title, text in zip(titles, texts):\n",
        "  sents = sent_tokenize(text)\n",
        "  docs.extend(sents)\n",
        "  video_titles.extend([title]*len(sents))"
      ],
      "metadata": {
        "id": "E9UeaIMUjwXJ"
      },
      "execution_count": 31,
      "outputs": []
    },
    {
      "cell_type": "markdown",
      "source": [
        "Let's save the texts on google drive just in case."
      ],
      "metadata": {
        "id": "Q-M1KJ4OoksB"
      }
    },
    {
      "cell_type": "code",
      "source": [
        "import pandas as pd\n",
        "\n",
        "df = pd.DataFrame({\"Title\": video_titles, \"Text\": docs})\n",
        "df.head()"
      ],
      "metadata": {
        "colab": {
          "base_uri": "https://localhost:8080/",
          "height": 206
        },
        "id": "NnrpDST7ojji",
        "outputId": "35b7deba-b51c-45d4-98e3-077446ad8857"
      },
      "execution_count": 33,
      "outputs": [
        {
          "output_type": "execute_result",
          "data": {
            "text/plain": [
              "                                         Title  \\\n",
              "0  ASSEMBLEA NAZIONALE COLDIRETTI (28.07.2022)   \n",
              "1  ASSEMBLEA NAZIONALE COLDIRETTI (28.07.2022)   \n",
              "2  ASSEMBLEA NAZIONALE COLDIRETTI (28.07.2022)   \n",
              "3  ASSEMBLEA NAZIONALE COLDIRETTI (28.07.2022)   \n",
              "4  ASSEMBLEA NAZIONALE COLDIRETTI (28.07.2022)   \n",
              "\n",
              "                                                Text  \n",
              "0             accogliamo un ultimo dei nostri amici.  \n",
              "1  Parlaramo poco fammi, ha detto, sono una perso...  \n",
              "2  Quindi diamo la parola per ultimo proprio il s...  \n",
              "3  Cioè, presentazione alla Gesmundo New Look, se...  \n",
              "4  Non ho il compitino pronto, cioè il mio uffici...  "
            ],
            "text/html": [
              "\n",
              "  <div id=\"df-4d2c3835-93c4-4856-96b1-b85c870418cf\">\n",
              "    <div class=\"colab-df-container\">\n",
              "      <div>\n",
              "<style scoped>\n",
              "    .dataframe tbody tr th:only-of-type {\n",
              "        vertical-align: middle;\n",
              "    }\n",
              "\n",
              "    .dataframe tbody tr th {\n",
              "        vertical-align: top;\n",
              "    }\n",
              "\n",
              "    .dataframe thead th {\n",
              "        text-align: right;\n",
              "    }\n",
              "</style>\n",
              "<table border=\"1\" class=\"dataframe\">\n",
              "  <thead>\n",
              "    <tr style=\"text-align: right;\">\n",
              "      <th></th>\n",
              "      <th>Title</th>\n",
              "      <th>Text</th>\n",
              "    </tr>\n",
              "  </thead>\n",
              "  <tbody>\n",
              "    <tr>\n",
              "      <th>0</th>\n",
              "      <td>ASSEMBLEA NAZIONALE COLDIRETTI (28.07.2022)</td>\n",
              "      <td>accogliamo un ultimo dei nostri amici.</td>\n",
              "    </tr>\n",
              "    <tr>\n",
              "      <th>1</th>\n",
              "      <td>ASSEMBLEA NAZIONALE COLDIRETTI (28.07.2022)</td>\n",
              "      <td>Parlaramo poco fammi, ha detto, sono una perso...</td>\n",
              "    </tr>\n",
              "    <tr>\n",
              "      <th>2</th>\n",
              "      <td>ASSEMBLEA NAZIONALE COLDIRETTI (28.07.2022)</td>\n",
              "      <td>Quindi diamo la parola per ultimo proprio il s...</td>\n",
              "    </tr>\n",
              "    <tr>\n",
              "      <th>3</th>\n",
              "      <td>ASSEMBLEA NAZIONALE COLDIRETTI (28.07.2022)</td>\n",
              "      <td>Cioè, presentazione alla Gesmundo New Look, se...</td>\n",
              "    </tr>\n",
              "    <tr>\n",
              "      <th>4</th>\n",
              "      <td>ASSEMBLEA NAZIONALE COLDIRETTI (28.07.2022)</td>\n",
              "      <td>Non ho il compitino pronto, cioè il mio uffici...</td>\n",
              "    </tr>\n",
              "  </tbody>\n",
              "</table>\n",
              "</div>\n",
              "      <button class=\"colab-df-convert\" onclick=\"convertToInteractive('df-4d2c3835-93c4-4856-96b1-b85c870418cf')\"\n",
              "              title=\"Convert this dataframe to an interactive table.\"\n",
              "              style=\"display:none;\">\n",
              "        \n",
              "  <svg xmlns=\"http://www.w3.org/2000/svg\" height=\"24px\"viewBox=\"0 0 24 24\"\n",
              "       width=\"24px\">\n",
              "    <path d=\"M0 0h24v24H0V0z\" fill=\"none\"/>\n",
              "    <path d=\"M18.56 5.44l.94 2.06.94-2.06 2.06-.94-2.06-.94-.94-2.06-.94 2.06-2.06.94zm-11 1L8.5 8.5l.94-2.06 2.06-.94-2.06-.94L8.5 2.5l-.94 2.06-2.06.94zm10 10l.94 2.06.94-2.06 2.06-.94-2.06-.94-.94-2.06-.94 2.06-2.06.94z\"/><path d=\"M17.41 7.96l-1.37-1.37c-.4-.4-.92-.59-1.43-.59-.52 0-1.04.2-1.43.59L10.3 9.45l-7.72 7.72c-.78.78-.78 2.05 0 2.83L4 21.41c.39.39.9.59 1.41.59.51 0 1.02-.2 1.41-.59l7.78-7.78 2.81-2.81c.8-.78.8-2.07 0-2.86zM5.41 20L4 18.59l7.72-7.72 1.47 1.35L5.41 20z\"/>\n",
              "  </svg>\n",
              "      </button>\n",
              "      \n",
              "  <style>\n",
              "    .colab-df-container {\n",
              "      display:flex;\n",
              "      flex-wrap:wrap;\n",
              "      gap: 12px;\n",
              "    }\n",
              "\n",
              "    .colab-df-convert {\n",
              "      background-color: #E8F0FE;\n",
              "      border: none;\n",
              "      border-radius: 50%;\n",
              "      cursor: pointer;\n",
              "      display: none;\n",
              "      fill: #1967D2;\n",
              "      height: 32px;\n",
              "      padding: 0 0 0 0;\n",
              "      width: 32px;\n",
              "    }\n",
              "\n",
              "    .colab-df-convert:hover {\n",
              "      background-color: #E2EBFA;\n",
              "      box-shadow: 0px 1px 2px rgba(60, 64, 67, 0.3), 0px 1px 3px 1px rgba(60, 64, 67, 0.15);\n",
              "      fill: #174EA6;\n",
              "    }\n",
              "\n",
              "    [theme=dark] .colab-df-convert {\n",
              "      background-color: #3B4455;\n",
              "      fill: #D2E3FC;\n",
              "    }\n",
              "\n",
              "    [theme=dark] .colab-df-convert:hover {\n",
              "      background-color: #434B5C;\n",
              "      box-shadow: 0px 1px 3px 1px rgba(0, 0, 0, 0.15);\n",
              "      filter: drop-shadow(0px 1px 2px rgba(0, 0, 0, 0.3));\n",
              "      fill: #FFFFFF;\n",
              "    }\n",
              "  </style>\n",
              "\n",
              "      <script>\n",
              "        const buttonEl =\n",
              "          document.querySelector('#df-4d2c3835-93c4-4856-96b1-b85c870418cf button.colab-df-convert');\n",
              "        buttonEl.style.display =\n",
              "          google.colab.kernel.accessAllowed ? 'block' : 'none';\n",
              "\n",
              "        async function convertToInteractive(key) {\n",
              "          const element = document.querySelector('#df-4d2c3835-93c4-4856-96b1-b85c870418cf');\n",
              "          const dataTable =\n",
              "            await google.colab.kernel.invokeFunction('convertToInteractive',\n",
              "                                                     [key], {});\n",
              "          if (!dataTable) return;\n",
              "\n",
              "          const docLinkHtml = 'Like what you see? Visit the ' +\n",
              "            '<a target=\"_blank\" href=https://colab.research.google.com/notebooks/data_table.ipynb>data table notebook</a>'\n",
              "            + ' to learn more about interactive tables.';\n",
              "          element.innerHTML = '';\n",
              "          dataTable['output_type'] = 'display_data';\n",
              "          await google.colab.output.renderOutput(dataTable, element);\n",
              "          const docLink = document.createElement('div');\n",
              "          docLink.innerHTML = docLinkHtml;\n",
              "          element.appendChild(docLink);\n",
              "        }\n",
              "      </script>\n",
              "    </div>\n",
              "  </div>\n",
              "  "
            ]
          },
          "metadata": {},
          "execution_count": 33
        }
      ]
    },
    {
      "cell_type": "code",
      "source": [
        "df.to_csv('/content/drive/MyDrive/Data/political_speeches/politopic_salvini.tsv', sep='\\t', index=False)"
      ],
      "metadata": {
        "id": "yRXk7zFIpG9b"
      },
      "execution_count": 41,
      "outputs": []
    },
    {
      "cell_type": "code",
      "source": [
        "import pandas as pd"
      ],
      "metadata": {
        "id": "uyRZC6QwfHPO"
      },
      "execution_count": 8,
      "outputs": []
    },
    {
      "cell_type": "code",
      "source": [
        "df = pd.read_csv('/content/drive/MyDrive/Data/political_speeches/politopic_salvini.tsv', sep='\\t')"
      ],
      "metadata": {
        "id": "77mi-Z1-fKkX"
      },
      "execution_count": 10,
      "outputs": []
    },
    {
      "cell_type": "markdown",
      "source": [
        "## Latent Dirichlet Allocation"
      ],
      "metadata": {
        "id": "yyk-9u0al224"
      }
    },
    {
      "cell_type": "code",
      "source": [
        "from nltk.corpus import stopwords\n",
        "import nltk\n",
        "nltk.download('stopwords')"
      ],
      "metadata": {
        "id": "BXDxvDLQgBN7",
        "outputId": "2a0d6fe7-6894-479f-fcbd-bba0f62373ed",
        "colab": {
          "base_uri": "https://localhost:8080/"
        }
      },
      "execution_count": 14,
      "outputs": [
        {
          "output_type": "stream",
          "name": "stderr",
          "text": [
            "[nltk_data] Downloading package stopwords to /root/nltk_data...\n",
            "[nltk_data]   Unzipping corpora/stopwords.zip.\n"
          ]
        },
        {
          "output_type": "execute_result",
          "data": {
            "text/plain": [
              "True"
            ]
          },
          "metadata": {},
          "execution_count": 14
        }
      ]
    },
    {
      "cell_type": "code",
      "source": [
        "it_stopwords = stopwords.words('italian')"
      ],
      "metadata": {
        "id": "gk2EXKBggE-u"
      },
      "execution_count": 15,
      "outputs": []
    },
    {
      "cell_type": "code",
      "source": [
        "it_stopwords[:20]"
      ],
      "metadata": {
        "id": "3RB9IMl1gQs4",
        "outputId": "e442698a-92db-47d5-cddd-4aaeb2ae18ea",
        "colab": {
          "base_uri": "https://localhost:8080/"
        }
      },
      "execution_count": 16,
      "outputs": [
        {
          "output_type": "execute_result",
          "data": {
            "text/plain": [
              "['ad',\n",
              " 'al',\n",
              " 'allo',\n",
              " 'ai',\n",
              " 'agli',\n",
              " 'all',\n",
              " 'agl',\n",
              " 'alla',\n",
              " 'alle',\n",
              " 'con',\n",
              " 'col',\n",
              " 'coi',\n",
              " 'da',\n",
              " 'dal',\n",
              " 'dallo',\n",
              " 'dai',\n",
              " 'dagli',\n",
              " 'dall',\n",
              " 'dagl',\n",
              " 'dalla']"
            ]
          },
          "metadata": {},
          "execution_count": 16
        }
      ]
    },
    {
      "cell_type": "code",
      "source": [
        "from sklearn.decomposition import LatentDirichletAllocation\n",
        "from sklearn.feature_extraction.text import CountVectorizer"
      ],
      "metadata": {
        "id": "dhsnlYoikuXD"
      },
      "execution_count": 7,
      "outputs": []
    },
    {
      "cell_type": "code",
      "source": [
        "cv = CountVectorizer(max_df=0.9, min_df=3, stop_words=it_stopwords)\n",
        "lda = LatentDirichletAllocation(n_components=5)"
      ],
      "metadata": {
        "id": "26tjypsKekLK"
      },
      "execution_count": 18,
      "outputs": []
    },
    {
      "cell_type": "code",
      "source": [
        "count = cv.fit_transform(df.Text)\n",
        "lda.fit_transform(count)"
      ],
      "metadata": {
        "id": "iyf59wG4gWO0",
        "outputId": "56ee5cf4-08a1-4625-b700-dd24a24d2a07",
        "colab": {
          "base_uri": "https://localhost:8080/"
        }
      },
      "execution_count": 25,
      "outputs": [
        {
          "output_type": "execute_result",
          "data": {
            "text/plain": [
              "array([[0.10000576, 0.10000503, 0.1007525 , 0.10000721, 0.5992295 ],\n",
              "       [0.10000769, 0.10000689, 0.10102752, 0.5989493 , 0.10000859],\n",
              "       [0.03412359, 0.03373869, 0.86335336, 0.03444671, 0.03433765],\n",
              "       [0.03361694, 0.03338984, 0.03338702, 0.86611208, 0.03349412],\n",
              "       [0.05016168, 0.05014483, 0.05072297, 0.79879065, 0.05017986],\n",
              "       [0.1014639 , 0.10127744, 0.10000757, 0.10001141, 0.59723968],\n",
              "       [0.05147728, 0.2999771 , 0.29865569, 0.05033114, 0.29955879],\n",
              "       [0.02044627, 0.02020788, 0.02010445, 0.02013906, 0.91910234],\n",
              "       [0.90917128, 0.0223167 , 0.02259083, 0.02282919, 0.023092  ],\n",
              "       [0.02897043, 0.88382139, 0.02874845, 0.02859883, 0.0298609 ],\n",
              "       [0.03439513, 0.03333615, 0.86531576, 0.03346464, 0.03348833],\n",
              "       [0.05054971, 0.79877614, 0.05066846, 0.05000305, 0.05000265],\n",
              "       [0.05090852, 0.05000499, 0.05032201, 0.79772848, 0.051036  ],\n",
              "       [0.02874263, 0.02862965, 0.0286975 , 0.02893401, 0.88499622],\n",
              "       [0.03357951, 0.03336408, 0.03465233, 0.03394638, 0.86445771],\n",
              "       [0.06735046, 0.06688781, 0.06681847, 0.06689757, 0.73204569],\n",
              "       [0.02528761, 0.8991675 , 0.02508035, 0.02537782, 0.02508671],\n",
              "       [0.72919957, 0.06761687, 0.06862636, 0.0666775 , 0.0678797 ],\n",
              "       [0.03385884, 0.03359409, 0.03357884, 0.86558913, 0.0333791 ],\n",
              "       [0.04062288, 0.04029618, 0.04027949, 0.04187748, 0.83692397],\n",
              "       [0.79797908, 0.05018929, 0.05011304, 0.05171259, 0.05000601],\n",
              "       [0.79671453, 0.05217012, 0.05029062, 0.05027212, 0.05055261],\n",
              "       [0.05272761, 0.05000465, 0.79630446, 0.05070744, 0.05025585],\n",
              "       [0.72853772, 0.06691964, 0.06667389, 0.07088417, 0.06698457],\n",
              "       [0.05071106, 0.05138413, 0.79414789, 0.05077491, 0.05298202],\n",
              "       [0.86430101, 0.03350015, 0.03357931, 0.03406893, 0.0345506 ],\n",
              "       [0.06716219, 0.73209144, 0.06667023, 0.06685556, 0.06722059],\n",
              "       [0.04013735, 0.83959508, 0.040002  , 0.04011202, 0.04015356],\n",
              "       [0.04073103, 0.04172041, 0.04004489, 0.04006803, 0.83743564],\n",
              "       [0.59850815, 0.10145962, 0.10000844, 0.10001272, 0.10001107],\n",
              "       [0.05067486, 0.05000373, 0.05031839, 0.79888731, 0.0501157 ],\n",
              "       [0.02292177, 0.02264416, 0.90882771, 0.02271695, 0.02288941],\n",
              "       [0.0500025 , 0.05000224, 0.79998927, 0.05000321, 0.05000279],\n",
              "       [0.02857455, 0.02928721, 0.88474063, 0.02857543, 0.02882219],\n",
              "       [0.06666978, 0.06666946, 0.73331994, 0.06667067, 0.06667015],\n",
              "       [0.07040811, 0.06714089, 0.72909084, 0.06668102, 0.06667915],\n",
              "       [0.04009533, 0.04192206, 0.04041349, 0.83735577, 0.04021336],\n",
              "       [0.05126987, 0.05052151, 0.79743861, 0.05076361, 0.0500064 ],\n",
              "       [0.02925517, 0.02891425, 0.02883575, 0.88375178, 0.02924305],\n",
              "       [0.94938258, 0.01264408, 0.01261449, 0.0127142 , 0.01264464],\n",
              "       [0.05126259, 0.05052142, 0.79754976, 0.05000734, 0.05065889],\n",
              "       [0.0134572 , 0.94610318, 0.013559  , 0.01341156, 0.01346906],\n",
              "       [0.59862316, 0.10000883, 0.10134435, 0.10001265, 0.10001101],\n",
              "       [0.33566406, 0.05016393, 0.05069858, 0.05000662, 0.51346682],\n",
              "       [0.1000054 , 0.10076725, 0.5992141 , 0.10000693, 0.10000633],\n",
              "       [0.04000346, 0.04042751, 0.8389131 , 0.04019923, 0.0404567 ],\n",
              "       [0.05000507, 0.79518939, 0.0500044 , 0.0500065 , 0.05479464],\n",
              "       [0.06667298, 0.06757758, 0.39919657, 0.06667477, 0.39987809],\n",
              "       [0.02555184, 0.89869878, 0.02542215, 0.02507867, 0.02524857],\n",
              "       [0.2       , 0.2       , 0.2       , 0.2       , 0.2       ],\n",
              "       [0.2       , 0.2       , 0.2       , 0.2       , 0.2       ],\n",
              "       [0.2       , 0.2       , 0.2       , 0.2       , 0.2       ],\n",
              "       [0.2       , 0.2       , 0.2       , 0.2       , 0.2       ]])"
            ]
          },
          "metadata": {},
          "execution_count": 25
        }
      ]
    },
    {
      "cell_type": "markdown",
      "source": [
        "count.toArray()"
      ],
      "metadata": {
        "id": "oZPyypYqjQFo"
      }
    },
    {
      "cell_type": "code",
      "source": [
        "count.toarray()[30]"
      ],
      "metadata": {
        "id": "9A0j6W8NjTO7",
        "outputId": "8b0b12cc-2ccf-469c-c2f9-1b8735d9d69f",
        "colab": {
          "base_uri": "https://localhost:8080/"
        }
      },
      "execution_count": 43,
      "outputs": [
        {
          "output_type": "execute_result",
          "data": {
            "text/plain": [
              "array([0, 0, 1, 0, 0, 0, 0, 0, 0, 0, 0, 0, 0, 0, 0, 0, 0, 0, 0, 0, 0, 0,\n",
              "       0, 0, 0, 0, 0, 0, 0, 0, 1, 0, 0, 0, 0, 0, 0, 0, 0, 0, 0, 0, 0, 0,\n",
              "       1, 0, 0, 0, 0])"
            ]
          },
          "metadata": {},
          "execution_count": 43
        }
      ]
    },
    {
      "cell_type": "code",
      "source": [
        "cv.get_feature_names()"
      ],
      "metadata": {
        "id": "XTL6gKyuhvxN",
        "outputId": "21725bd4-d6e1-40a5-8d7c-80a1b69947fd",
        "colab": {
          "base_uri": "https://localhost:8080/"
        }
      },
      "execution_count": 36,
      "outputs": [
        {
          "output_type": "stream",
          "name": "stderr",
          "text": [
            "/usr/local/lib/python3.8/dist-packages/sklearn/utils/deprecation.py:87: FutureWarning: Function get_feature_names is deprecated; get_feature_names is deprecated in 1.0 and will be removed in 1.2. Please use get_feature_names_out instead.\n",
            "  warnings.warn(msg, category=FutureWarning)\n"
          ]
        },
        {
          "output_type": "execute_result",
          "data": {
            "text/plain": [
              "['agricoltori',\n",
              " 'agricoltura',\n",
              " 'alimentare',\n",
              " 'assolutamente',\n",
              " 'centro',\n",
              " 'cioè',\n",
              " 'costa',\n",
              " 'destra',\n",
              " 'devo',\n",
              " 'diretti',\n",
              " 'due',\n",
              " 'essere',\n",
              " 'euro',\n",
              " 'fa',\n",
              " 'fare',\n",
              " 'fatto',\n",
              " 'già',\n",
              " 'grazie',\n",
              " 'inno',\n",
              " 'intusiasta',\n",
              " 'italia',\n",
              " 'italiani',\n",
              " 'lega',\n",
              " 'livello',\n",
              " 'no',\n",
              " 'ora',\n",
              " 'parola',\n",
              " 'parte',\n",
              " 'persone',\n",
              " 'però',\n",
              " 'piano',\n",
              " 'poi',\n",
              " 'prendo',\n",
              " 'problema',\n",
              " 'qua',\n",
              " 'quando',\n",
              " 'quindi',\n",
              " 'ringrazio',\n",
              " 'salute',\n",
              " 'senza',\n",
              " 'soldi',\n",
              " 'solo',\n",
              " 'stamattina',\n",
              " 'stato',\n",
              " 'sì',\n",
              " 'tanti',\n",
              " 'tema',\n",
              " 'ultimo',\n",
              " 'vita']"
            ]
          },
          "metadata": {},
          "execution_count": 36
        }
      ]
    },
    {
      "cell_type": "code",
      "source": [
        "len(lda.components_)"
      ],
      "metadata": {
        "id": "sf7sR9BPgimi",
        "outputId": "06006a2e-6c1b-463b-eb5b-603efe303df2",
        "colab": {
          "base_uri": "https://localhost:8080/"
        }
      },
      "execution_count": 54,
      "outputs": [
        {
          "output_type": "execute_result",
          "data": {
            "text/plain": [
              "5"
            ]
          },
          "metadata": {},
          "execution_count": 54
        }
      ]
    },
    {
      "cell_type": "code",
      "source": [
        "first_topic"
      ],
      "metadata": {
        "id": "LMHEJmvFkALs",
        "outputId": "d451dd8f-c03b-4aad-96d6-add5aeade261",
        "colab": {
          "base_uri": "https://localhost:8080/"
        }
      },
      "execution_count": 47,
      "outputs": [
        {
          "output_type": "execute_result",
          "data": {
            "text/plain": [
              "array([0.20002656, 2.19912448, 1.1980291 , 1.20130993, 1.20061042,\n",
              "       1.19743369, 0.20001028, 1.20031285, 0.20001323, 0.20002601,\n",
              "       0.20001088, 2.20764045, 0.20001411, 0.20002617, 2.20178964,\n",
              "       0.20002087, 1.19988985, 0.20002881, 3.20947825, 0.20002755,\n",
              "       2.20319975, 3.20301082, 1.20115287, 1.19669393, 1.20233841,\n",
              "       0.20000756, 0.20001194, 0.20002497, 0.20001289, 3.19965086,\n",
              "       1.20327205, 1.19200254, 0.20000767, 1.19423074, 1.20289721,\n",
              "       0.20002626, 3.20164163, 0.20000651, 0.2000111 , 3.20448175,\n",
              "       0.20001028, 0.20001095, 0.20001663, 2.1983794 , 1.18912246,\n",
              "       1.19960469, 1.3484609 , 0.20097756, 0.20001164])"
            ]
          },
          "metadata": {},
          "execution_count": 47
        }
      ]
    },
    {
      "cell_type": "code",
      "source": [
        "first_topic.argsort()"
      ],
      "metadata": {
        "id": "IwwR047pg1WF",
        "outputId": "f9efbfa0-e100-426a-8169-2fd48154f7da",
        "colab": {
          "base_uri": "https://localhost:8080/"
        }
      },
      "execution_count": 45,
      "outputs": [
        {
          "output_type": "execute_result",
          "data": {
            "text/plain": [
              "array([37, 25, 32, 40,  6, 10, 41, 38, 48, 26, 28,  8, 12, 42, 15, 27,  9,\n",
              "       13, 35,  0, 19, 17, 47, 44, 31, 33, 23,  5,  2, 45, 16,  7,  4, 22,\n",
              "        3, 24, 34, 30, 46, 43,  1, 14, 20, 11, 29, 36, 21, 39, 18])"
            ]
          },
          "metadata": {},
          "execution_count": 45
        }
      ]
    },
    {
      "cell_type": "code",
      "source": [
        "first_topic.argsort()[-10:]"
      ],
      "metadata": {
        "id": "GX29az7Sj8iG",
        "outputId": "64a652cc-c037-49f9-aa69-df74edcde1df",
        "colab": {
          "base_uri": "https://localhost:8080/"
        }
      },
      "execution_count": 48,
      "outputs": [
        {
          "output_type": "execute_result",
          "data": {
            "text/plain": [
              "array([43,  1, 14, 20, 11, 29, 36, 21, 39, 18])"
            ]
          },
          "metadata": {},
          "execution_count": 48
        }
      ]
    },
    {
      "cell_type": "code",
      "source": [
        "list(cv.get_feature_names_out()[21:23])"
      ],
      "metadata": {
        "id": "ji0fJ8RikQ53",
        "outputId": "a17e232d-432a-4f33-b99f-22bff502863c",
        "colab": {
          "base_uri": "https://localhost:8080/"
        }
      },
      "execution_count": 59,
      "outputs": [
        {
          "output_type": "execute_result",
          "data": {
            "text/plain": [
              "['italiani', 'lega']"
            ]
          },
          "metadata": {},
          "execution_count": 59
        }
      ]
    },
    {
      "cell_type": "code",
      "source": [
        "def get_feature_names_per_topic(lda_components, count_vectorizer, topn=5):\n",
        "  topics = []\n",
        "\n",
        "  for i in range(len(lda_components)):\n",
        "    topic = lda_components[i]\n",
        "    top_words_idx = topic.argsort()[-topn:]\n",
        "    topic_names = [count_vectorizer.get_feature_names_out()[id] for id in top_words_idx]\n",
        "    topics.append('_'.join(topic_names))\n",
        "  \n",
        "  return topics"
      ],
      "metadata": {
        "id": "3eac7PONk8d0"
      },
      "execution_count": 60,
      "outputs": []
    },
    {
      "cell_type": "code",
      "source": [
        "topics = get_feature_names_per_topic(lda.components_, cv)"
      ],
      "metadata": {
        "id": "UyRz80x2nB7i"
      },
      "execution_count": 62,
      "outputs": []
    },
    {
      "cell_type": "code",
      "source": [
        "topics"
      ],
      "metadata": {
        "id": "OP5BwO7onJBW",
        "outputId": "28b68d5b-a30d-40f4-a661-a416b96622fb",
        "colab": {
          "base_uri": "https://localhost:8080/"
        }
      },
      "execution_count": 63,
      "outputs": [
        {
          "output_type": "execute_result",
          "data": {
            "text/plain": [
              "['però_quindi_italiani_senza_inno',\n",
              " 'quindi_poi_devo_ringrazio_fatto',\n",
              " 'prendo_grazie_soldi_costa_fa',\n",
              " 'intusiasta_cioè_problema_sì_alimentare',\n",
              " 'salute_ultimo_agricoltura_senza_quando']"
            ]
          },
          "metadata": {},
          "execution_count": 63
        }
      ]
    },
    {
      "cell_type": "code",
      "source": [],
      "metadata": {
        "id": "Sqy0VHg1nL9J"
      },
      "execution_count": null,
      "outputs": []
    }
  ]
}
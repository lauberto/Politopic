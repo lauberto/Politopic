{
  "nbformat": 4,
  "nbformat_minor": 0,
  "metadata": {
    "colab": {
      "provenance": [],
      "authorship_tag": "ABX9TyNyHjuEU+90rhO0QleXeUu4",
      "include_colab_link": true
    },
    "kernelspec": {
      "name": "python3",
      "display_name": "Python 3"
    },
    "language_info": {
      "name": "python"
    }
  },
  "cells": [
    {
      "cell_type": "markdown",
      "metadata": {
        "id": "view-in-github",
        "colab_type": "text"
      },
      "source": [
        "<a href=\"https://colab.research.google.com/github/lauberto/politopic/blob/main/notebook/demo.ipynb\" target=\"_parent\"><img src=\"https://colab.research.google.com/assets/colab-badge.svg\" alt=\"Open In Colab\"/></a>"
      ]
    },
    {
      "cell_type": "markdown",
      "source": [
        "# Topic Modelling on Politicians' speech\n",
        "\n",
        "This notebook shows how to apply topic modelling on the transcription of yt videos with Politicians' speech. The transcription is performed with [`whisper`](https://github.com/openai/whisper)."
      ],
      "metadata": {
        "id": "G88tTx3LYG3H"
      }
    },
    {
      "cell_type": "markdown",
      "source": [
        "## Installing dependencies"
      ],
      "metadata": {
        "id": "33vwa3iihjsH"
      }
    },
    {
      "cell_type": "code",
      "source": [
        "!sudo apt update && sudo apt install ffmpeg"
      ],
      "metadata": {
        "id": "qaXoSMK-esAf",
        "outputId": "d3044a72-38be-4c17-e672-211dd47cb709",
        "colab": {
          "base_uri": "https://localhost:8080/"
        }
      },
      "execution_count": 1,
      "outputs": [
        {
          "output_type": "stream",
          "name": "stdout",
          "text": [
            "\u001b[33m\r0% [Working]\u001b[0m\r            \rHit:1 http://security.ubuntu.com/ubuntu bionic-security InRelease\n",
            "\u001b[33m\r0% [Connecting to archive.ubuntu.com (185.125.190.39)] [Connected to cloud.r-pr\u001b[0m\u001b[33m\r0% [1 InRelease gpgv 88.7 kB] [Waiting for headers] [Waiting for headers] [Wait\u001b[0m\r                                                                               \rHit:2 https://cloud.r-project.org/bin/linux/ubuntu bionic-cran40/ InRelease\n",
            "\u001b[33m\r0% [1 InRelease gpgv 88.7 kB] [Waiting for headers] [Waiting for headers] [Conn\u001b[0m\r                                                                               \rIgn:3 https://developer.download.nvidia.com/compute/machine-learning/repos/ubuntu1804/x86_64  InRelease\n",
            "\u001b[33m\r0% [1 InRelease gpgv 88.7 kB] [Waiting for headers] [Waiting for headers] [Conn\u001b[0m\r                                                                               \rHit:4 https://developer.download.nvidia.com/compute/cuda/repos/ubuntu1804/x86_64  InRelease\n",
            "\u001b[33m\r0% [1 InRelease gpgv 88.7 kB] [Waiting for headers] [Connecting to ppa.launchpa\u001b[0m\r                                                                               \rHit:5 https://developer.download.nvidia.com/compute/machine-learning/repos/ubuntu1804/x86_64  Release\n",
            "Hit:6 http://archive.ubuntu.com/ubuntu bionic InRelease\n",
            "Hit:7 http://archive.ubuntu.com/ubuntu bionic-updates InRelease\n",
            "Hit:8 http://archive.ubuntu.com/ubuntu bionic-backports InRelease\n",
            "Hit:10 http://ppa.launchpad.net/c2d4u.team/c2d4u4.0+/ubuntu bionic InRelease\n",
            "Hit:11 http://ppa.launchpad.net/cran/libgit2/ubuntu bionic InRelease\n",
            "Get:12 http://ppa.launchpad.net/deadsnakes/ppa/ubuntu bionic InRelease [15.9 kB]\n",
            "Hit:13 http://ppa.launchpad.net/graphics-drivers/ppa/ubuntu bionic InRelease\n",
            "Get:14 http://ppa.launchpad.net/deadsnakes/ppa/ubuntu bionic/main amd64 Packages [44.6 kB]\n",
            "Fetched 60.5 kB in 2s (33.5 kB/s)\n",
            "Reading package lists... Done\n",
            "Building dependency tree       \n",
            "Reading state information... Done\n",
            "23 packages can be upgraded. Run 'apt list --upgradable' to see them.\n",
            "Reading package lists... Done\n",
            "Building dependency tree       \n",
            "Reading state information... Done\n",
            "ffmpeg is already the newest version (7:3.4.11-0ubuntu0.1).\n",
            "The following package was automatically installed and is no longer required:\n",
            "  libnvidia-common-460\n",
            "Use 'sudo apt autoremove' to remove it.\n",
            "0 upgraded, 0 newly installed, 0 to remove and 23 not upgraded.\n"
          ]
        }
      ]
    },
    {
      "cell_type": "code",
      "source": [
        "# Installing whisper\n",
        "!pip install git+https://github.com/openai/whisper.git "
      ],
      "metadata": {
        "id": "8OjGFAlTZxHq",
        "outputId": "ecd9eba8-3392-4cda-87fe-2aee359802df",
        "colab": {
          "base_uri": "https://localhost:8080/"
        }
      },
      "execution_count": 2,
      "outputs": [
        {
          "output_type": "stream",
          "name": "stdout",
          "text": [
            "Looking in indexes: https://pypi.org/simple, https://us-python.pkg.dev/colab-wheels/public/simple/\n",
            "Collecting git+https://github.com/openai/whisper.git\n",
            "  Cloning https://github.com/openai/whisper.git to /tmp/pip-req-build-gffm5jc4\n",
            "  Running command git clone -q https://github.com/openai/whisper.git /tmp/pip-req-build-gffm5jc4\n",
            "Requirement already satisfied: numpy in /usr/local/lib/python3.8/dist-packages (from whisper==1.0) (1.21.6)\n",
            "Requirement already satisfied: torch in /usr/local/lib/python3.8/dist-packages (from whisper==1.0) (1.12.1+cu113)\n",
            "Requirement already satisfied: tqdm in /usr/local/lib/python3.8/dist-packages (from whisper==1.0) (4.64.1)\n",
            "Requirement already satisfied: more-itertools in /usr/local/lib/python3.8/dist-packages (from whisper==1.0) (9.0.0)\n",
            "Requirement already satisfied: transformers>=4.19.0 in /usr/local/lib/python3.8/dist-packages (from whisper==1.0) (4.25.1)\n",
            "Requirement already satisfied: ffmpeg-python==0.2.0 in /usr/local/lib/python3.8/dist-packages (from whisper==1.0) (0.2.0)\n",
            "Requirement already satisfied: future in /usr/local/lib/python3.8/dist-packages (from ffmpeg-python==0.2.0->whisper==1.0) (0.16.0)\n",
            "Requirement already satisfied: pyyaml>=5.1 in /usr/local/lib/python3.8/dist-packages (from transformers>=4.19.0->whisper==1.0) (6.0)\n",
            "Requirement already satisfied: packaging>=20.0 in /usr/local/lib/python3.8/dist-packages (from transformers>=4.19.0->whisper==1.0) (21.3)\n",
            "Requirement already satisfied: huggingface-hub<1.0,>=0.10.0 in /usr/local/lib/python3.8/dist-packages (from transformers>=4.19.0->whisper==1.0) (0.11.1)\n",
            "Requirement already satisfied: tokenizers!=0.11.3,<0.14,>=0.11.1 in /usr/local/lib/python3.8/dist-packages (from transformers>=4.19.0->whisper==1.0) (0.13.2)\n",
            "Requirement already satisfied: filelock in /usr/local/lib/python3.8/dist-packages (from transformers>=4.19.0->whisper==1.0) (3.8.0)\n",
            "Requirement already satisfied: requests in /usr/local/lib/python3.8/dist-packages (from transformers>=4.19.0->whisper==1.0) (2.23.0)\n",
            "Requirement already satisfied: regex!=2019.12.17 in /usr/local/lib/python3.8/dist-packages (from transformers>=4.19.0->whisper==1.0) (2022.6.2)\n",
            "Requirement already satisfied: typing-extensions>=3.7.4.3 in /usr/local/lib/python3.8/dist-packages (from huggingface-hub<1.0,>=0.10.0->transformers>=4.19.0->whisper==1.0) (4.1.1)\n",
            "Requirement already satisfied: pyparsing!=3.0.5,>=2.0.2 in /usr/local/lib/python3.8/dist-packages (from packaging>=20.0->transformers>=4.19.0->whisper==1.0) (3.0.9)\n",
            "Requirement already satisfied: certifi>=2017.4.17 in /usr/local/lib/python3.8/dist-packages (from requests->transformers>=4.19.0->whisper==1.0) (2022.9.24)\n",
            "Requirement already satisfied: chardet<4,>=3.0.2 in /usr/local/lib/python3.8/dist-packages (from requests->transformers>=4.19.0->whisper==1.0) (3.0.4)\n",
            "Requirement already satisfied: urllib3!=1.25.0,!=1.25.1,<1.26,>=1.21.1 in /usr/local/lib/python3.8/dist-packages (from requests->transformers>=4.19.0->whisper==1.0) (1.24.3)\n",
            "Requirement already satisfied: idna<3,>=2.5 in /usr/local/lib/python3.8/dist-packages (from requests->transformers>=4.19.0->whisper==1.0) (2.10)\n"
          ]
        }
      ]
    },
    {
      "cell_type": "markdown",
      "source": [
        " Installing [`pytube`](https://https://github.com/pytube/pytube). and downloading the [video](https://https://www.youtube.com/watch?v=knj8ULToNvo) from youtube."
      ],
      "metadata": {
        "id": "Ct4adIANpQvX"
      }
    },
    {
      "cell_type": "code",
      "source": [
        "!pip install git+https://github.com/pytube/pytube"
      ],
      "metadata": {
        "id": "4oavpZpUXkLp",
        "outputId": "fb6fd705-db1a-4646-ab27-55b72f518a2c",
        "colab": {
          "base_uri": "https://localhost:8080/"
        }
      },
      "execution_count": 3,
      "outputs": [
        {
          "output_type": "stream",
          "name": "stdout",
          "text": [
            "Looking in indexes: https://pypi.org/simple, https://us-python.pkg.dev/colab-wheels/public/simple/\n",
            "Collecting git+https://github.com/pytube/pytube\n",
            "  Cloning https://github.com/pytube/pytube to /tmp/pip-req-build-kk78m3ia\n",
            "  Running command git clone -q https://github.com/pytube/pytube /tmp/pip-req-build-kk78m3ia\n"
          ]
        }
      ]
    },
    {
      "cell_type": "markdown",
      "source": [
        "## First Demo - Salvini's Speech at a Coldiretti Conference.\n",
        "\n",
        "Who's better than a populist far-right politician like Salvini to start with the analysis of political speeches?"
      ],
      "metadata": {
        "id": "ZOqQcd9SXdyH"
      }
    },
    {
      "cell_type": "code",
      "source": [
        "video_ids = ['knj8ULToNvo', 'wVHyFwyhQwE&t=73s']\n",
        "video_urls = ['https://youtu.be/' + video_id for video_id in video_ids]"
      ],
      "metadata": {
        "id": "xWVfp8E6aFWj"
      },
      "execution_count": 4,
      "outputs": []
    },
    {
      "cell_type": "markdown",
      "source": [
        "### Download & Transcription\n",
        "Download the video from YouTube and transcribe it using whisper. We are going to "
      ],
      "metadata": {
        "id": "dpxhQWfOa1Nm"
      }
    },
    {
      "cell_type": "code",
      "source": [
        "import whisper\n",
        "from pytube import YouTube"
      ],
      "metadata": {
        "id": "U8l7_FVzd_kA"
      },
      "execution_count": 5,
      "outputs": []
    },
    {
      "cell_type": "code",
      "source": [
        "whisper_model = whisper.load_model('base')"
      ],
      "metadata": {
        "id": "qDIRbhnmaoXE",
        "outputId": "8a5a86d0-8f85-4366-83e7-bd9fdd6d0265",
        "colab": {
          "base_uri": "https://localhost:8080/"
        }
      },
      "execution_count": 7,
      "outputs": [
        {
          "output_type": "stream",
          "name": "stderr",
          "text": [
            "100%|███████████████████████████████████████| 139M/139M [00:05<00:00, 29.0MiB/s]\n"
          ]
        }
      ]
    },
    {
      "cell_type": "code",
      "source": [
        "titles = []\n",
        "texts = []\n",
        "\n",
        "for url in video_urls:\n",
        "  yt = YouTube(url=url)\n",
        "  titles.append(yt.title)\n",
        "  path = yt.streams.filter(only_audio=True)[0].download(filename=\"audio.mp4\")\n",
        "  transcription = whisper_model.transcribe(path)\n",
        "  texts.append(transcription[\"text\"])  "
      ],
      "metadata": {
        "id": "rOGmGTTuaylA",
        "outputId": "179492ad-c97d-48a4-97a1-16629ba70aa7",
        "colab": {
          "base_uri": "https://localhost:8080/"
        }
      },
      "execution_count": 14,
      "outputs": [
        {
          "output_type": "stream",
          "name": "stderr",
          "text": [
            "/usr/local/lib/python3.8/dist-packages/whisper/transcribe.py:78: UserWarning: FP16 is not supported on CPU; using FP32 instead\n",
            "  warnings.warn(\"FP16 is not supported on CPU; using FP32 instead\")\n"
          ]
        }
      ]
    },
    {
      "cell_type": "markdown",
      "source": [
        "### Sentence segmentation"
      ],
      "metadata": {
        "id": "74tWarlojqZY"
      }
    },
    {
      "cell_type": "code",
      "source": [
        "import nltk\n",
        "\n",
        "nltk.download('punkt')"
      ],
      "metadata": {
        "id": "-zbvY9DgkoFk",
        "outputId": "833f710e-c2cf-43d7-fba6-47a9f6ace3f0",
        "colab": {
          "base_uri": "https://localhost:8080/"
        }
      },
      "execution_count": 29,
      "outputs": [
        {
          "output_type": "stream",
          "name": "stderr",
          "text": [
            "[nltk_data] Downloading package punkt to /root/nltk_data...\n",
            "[nltk_data]   Unzipping tokenizers/punkt.zip.\n"
          ]
        },
        {
          "output_type": "execute_result",
          "data": {
            "text/plain": [
              "True"
            ]
          },
          "metadata": {},
          "execution_count": 29
        }
      ]
    },
    {
      "cell_type": "code",
      "source": [
        "from nltk import sent_tokenize"
      ],
      "metadata": {
        "id": "W4R4sxA3iWpf"
      },
      "execution_count": 30,
      "outputs": []
    },
    {
      "cell_type": "code",
      "source": [
        "docs = []\n",
        "video_titles = []\n",
        "\n",
        "for title, text in zip(titles, texts):\n",
        "  sents = sent_tokenize(text)\n",
        "  docs.extend(sents)\n",
        "  video_titles.extend([title]*len(sents))"
      ],
      "metadata": {
        "id": "E9UeaIMUjwXJ"
      },
      "execution_count": 31,
      "outputs": []
    },
    {
      "cell_type": "code",
      "source": [
        "docs"
      ],
      "metadata": {
        "id": "PqIqXbMdkAX6",
        "outputId": "8331612a-64f5-4f00-9175-3695e73cece5",
        "colab": {
          "base_uri": "https://localhost:8080/"
        }
      },
      "execution_count": 32,
      "outputs": [
        {
          "output_type": "execute_result",
          "data": {
            "text/plain": [
              "[' accogliamo un ultimo dei nostri amici.',\n",
              " 'Parlaramo poco fammi, ha detto, sono una persona intusiasta rispetto alla campagna elettorale che mi aspetta.',\n",
              " 'Quindi diamo la parola per ultimo proprio il segredario più intusiasta che ci abbiamo attormente in Italia.',\n",
              " 'Cioè, presentazione alla Gesmundo New Look, segredario più intusiasta, determinato si, assolutamente determinato e con in testa benchiari, i problemi che ci sono e che ci saranno i tanti e lo vengo a condividere con persone che sono intrincea.',\n",
              " 'Non ho il compitino pronto, cioè il mio ufficio, ovviamente, come si fa, in contesti autorevoli, fra persone autorevoli, ti fanno il dossier sul PNRR, sul nutriscors, su tutto quello che è giusto seguire.',\n",
              " \"Io vado molto diretto, qua ci sono la presentanti provinciali e regionali dell'impresa agricola vera.\",\n",
              " 'Cosa ha fatto e sta facendo la lega per la agricoltura mi sembra evidente.',\n",
              " \"Abbiamo stamattina 8 asessori regionali in carica che si occupano di agricoltura, perché i tavoli delle trattative quando si vince una leszione regionale il tema agricoltura è uno di quelli che metto davanti agli altri, se gli italiani sceglieranno il centro destra, se, perché qua ci sono giornali che fanno analisi, collegi, flussi, gli uninominali, sicuri, non c'è niente di sicuro.\",\n",
              " \"Il 25 settembre sceglieranno gli italiani, se gli italiani sceglieranno il centro destra la lega, la agricoltura anzi, l'agro alimentare, provando a guardare oltre, sarà sicuramente un tema, un settore, un ministero di cui occuparsi e preoccuparsi.\",\n",
              " 'Al diario di quello che ha fatto già Marco Centinaio con cui era un ufficio stamattina sul vino, sulle doppe, i 25 milioni, ringrazio anche il ministro Patuonelli, perché qua il tema del Medin si come siamo quello che mangiamo dovrà vedere massima collaborazione.',\n",
              " \"Però quello che è la lega è quello che fa la lega da anni con Fabio Rolfi in l'ombardia piuttosto che quei nostri euro parlamentari si sa.\",\n",
              " 'Quindi non devo promette re niente, non devo inventarmi niente.',\n",
              " \"L'agro alimentare sarà uno dei temi che al tavolo del centro destra porterò personalmente con più attenzione.\",\n",
              " \"A livello europeo dobbiamo provare a sventare all'ultimo minuto utile alcuni attentati alla salute pubblica che sono in corso e parlo di attentati non solo alla agricoltura italiano al Medinita, ma alla salute pubblica.\",\n",
              " \"Quando una nostra euro parlamentare, Marabizzotto fa un interrogazione, parlamentare sull'atte senza vacche, prodotto in Danimarca con tutto rispetto da un'azienda alla vanguardia che spiega, che così facendo, si inquina di meno e si mandano in pensione anticipata le vacche, lavorando sulla fermentazione senza estrazione mammaria e l'Unione Europea dice che è lecito e consentito a me vengono i capelli dritti in testa.\",\n",
              " \"Il latte senza vacche, l'amborger, è un attentato alla salute pubblica.\",\n",
              " \"Adesso mi farò amici in più, ma tanto, stamattina c'è stato per tre ore il fantasy sulla Russia che ha fatto cadere il Governo, due persone che mi hanno precedute, ha fatto cadere il Governo, di maio e conte, poi non so su indicazione di chi.\",\n",
              " 'E a livello autorevole, quindi di servizi arriverà in questi istanti una smentita che nega qualsiasi relazione fra la mia persona, la Russia o altri.',\n",
              " \"Io voglio la pace, sì, perché l'Italia, se non ricordo male, importa quasi la metà del grano e del maissè necessari all'industria e di questa una buona parte arriva da l'Ukraine e sicuramente una guerra che avanti al trans è un problema per il costo energetico, per il costo materie prime e per l'auto-sufficienza alimentare.\",\n",
              " \"Ho visto che siete personaggi pericolosi anche voi, perché nei punti che avete esposto, avete usato anche una parolaaccia che vi comportarà almeno tre in chieste, punto tre, sovranità alimentare energetiche logistica, pericolosi sovranisti, incol diretti, sono assolutamente d'accordo perché è un tema di sicurezza nazionale.\",\n",
              " 'Inno, qual è stato il problema di questi anni?',\n",
              " \"Inno, l'Italia raccoglie, conserve e poi riutilizza, secondo gli ultimi dati, meno del 15% di acqua piovana.\",\n",
              " \"Perché ci sono inno, perché non fa invasi, non fa i bacini di raccolta, non puoi riempire le X-Cave perché c'è le gambiente, il comitato, pincopluto, pallino, la sovrin tendenza.\",\n",
              " 'Noi cercheremo di giudarli italiani raccolgliendo i sì.',\n",
              " \"Abbiamo bisogno di dighe, abbiamo bisogno di viadotti, abbiamo bisogno di energia, rinnovabile, nucleare, pulita, sicura, abbiamo bisogno di sostenere agricoltori, alle vatori e aggiungo io pescatori, che non sono sempre la parte che spesso arriva ultima, io incontrerò che operativa chioggia, settimana prossima, c'è il tema carburante.\",\n",
              " 'I fenomeni ideologici del Grindill, del tutto elettrico, voglia spiegare che il trattore senza gasoglio difficilmente funziona il peschereggio, senza gasoglio difficilmente e cioè quindi sotto scrivo se volete mettere i punti così almeno cosa fatta, capo a difender la agricoltura italiana con gli stutiziali ministeri della grailimentaria, in pegno preso.',\n",
              " 'No al nutriscor, ho fatto una trantina di conveni, spiegando che la dieta di Miterranea è quella più salutare oltre che economicamente interessante perché è in questa sala.',\n",
              " \"No al cibo sintetico ed è una battaglia della vita e vi ringrazio per farmi vedere sempre in torno ora di pranzo in settisca raffaggi, formiche, locuste e quant'altro.\",\n",
              " \"No agli accordi di libero scambio, senza condizionalità, con paesi che ci fanno concorrenza sleale perché utilizzano prodotti che da noi sono fuori legge, quelli che parlano di ambiente e di eco-sostenibilità e poi permettono alcune pratiche che mettono in evidente concorrenza sleale, i nostri imprenditori agricoli sono fuori dal mondo, sia l'origine in etichetta, la voce guita io, quando ero parlamentarmi, dicevano che era contro la libera concorrenza.\",\n",
              " 'Io voglio sapere la camicia che indosso dove state a prodotto e lavorata e soprattutto quello che mangio e che bevo, dove è stato prodotto e lavorato.',\n",
              " 'Sì alla sostenibilità e sia la ricerca di default, sulla sovranità alimentare energetica e logistica, siamo ad accordo servono in frazzutture, serve il ponte sullo stretto di messina con un piano di fatibilità.',\n",
              " 'Io al centro-destro chiesto di fare un programma elettorale senza promesse miracolanti, quello che mi propongo di fare deve costare, devo dire, quanto costa e da dove prendo i soldi.',\n",
              " 'Quota 41 invece della fornero, quanto costa, gradualmente, e dove prendo i soldi.',\n",
              " 'La flat tax al 15% che stamattina usano due milioni partite ivas, e porto il tetto da 65 a 100 mila euro, quanto costa e dove prendo i soldi.',\n",
              " 'La rottamazione del cartello di acquittaglia mi porta soldi, non mi costa ma me ne porta.',\n",
              " 'Stop cinghiali, difendiamo cittadini agricoltori, mi accusano di essere a favore della caccia, io non sono a favore o contro Milan o Inter.',\n",
              " 'La fa una selvatica, quanti in contra abbiamo fatto davanti a Montecitorio, è un enorme problema, non solo per gli imprenditori agricoli, ma per gli animali e ormai anche per luomo.',\n",
              " 'E quindi un enorme piano di uso la parola più bella che mi viene mente.',\n",
              " 'Contenimento, contenimento generalizzato che da mandato approvince a regioni di fare quello che occorre fare, senza tanti peli sulla lingua, è questione di vita o di morte, non solo per gli animali, ma anche per gli esseri umani.',\n",
              " \"Qua non si tratta di essere però il contro, si tratta di dare mandato a chi può ed deve farlo, di fare quello che è necessario fare, senza che ci siano i comitati del no, piano in vasia, ha energia sostenibile per l'Italia, l'abbiamo detto, ci sono già tanti progetti pronti, come ci sono i progetti pronti per i rigassificatori, per i desali inizzatori, però inno hanno bloccato tante cose, quindi siccome luomo è ciò che manja, voi siete assolutamente centrali e fondamentali.\",\n",
              " 'A livello di commissione europea non mi sembra ai mech i regri culture sia centrale, la politica agricola comune ha penalizzato pesantemente, nel discorso di insediamento della Presidente alla Commissione e la parola agricultura non è mai stata neanche menzionata e quindi occorre recuperare.',\n",
              " \"Poi si confronteranno due idee di Italia, di Medine, di agricultura, di cibo, di futuro e di salute diverse da una parte con legittima aspirazione, il et, agli esperanzi, io devo dire che con Patonelli sono in buoni rapporti, ci siamo confrontati perché poi sui temi concreti bisogna andare al di là e quindi l'ora in grazie per quello che ha fatto, ringrazio già Marco Centinaio, se devo scommettere sui chissarà il prossimo ministro della agricultura farà Patonelli e Centinaio, appunto su Centinaio.\",\n",
              " 'Stamente se dobbiamo essere sincero fino in fondo.',\n",
              " \"Con tutta la cautela e la scaramanzia del caso, nell'ultimo decreto aiuti abbiamo insistito perché ci fosse anche il tema gasoglio e carburanti, e li è una battaglia complicata però anche per i settori che riguardano quello per cui, e, torre, enzo, si impegna la domanda, da la mattina sera.\",\n",
              " 'Grazie.',\n",
              " \"Grazie non tanto per l'invito, ma grazie perché col diretti è una certezza, non fa sconti.\",\n",
              " \"Quando è torre, inzo, devono prendere il telefono dicendomi, ha isbagliato lo fanno, e io li ringrazio da amico perché so che l'ora è un parere disinteressato.\",\n",
              " 'E quando prendono il telefono e mi dicono bravo, grazie.',\n",
              " 'Ringrazio ai tuoi il complemento validoppio perché è un complemento disinteressato, quindi lunga vita agli agricoltori italiani e lunga vita col diretti.',\n",
              " 'È una fortuna tutti noi che ne avranno bisogno.',\n",
              " 'Mamero.',\n",
              " \"E' il vostro offendersispeなんです, c'è diversa.\",\n",
              " 'Ag distinguished by Rical barco']"
            ]
          },
          "metadata": {},
          "execution_count": 32
        }
      ]
    },
    {
      "cell_type": "code",
      "source": [],
      "metadata": {
        "id": "dhsnlYoikuXD"
      },
      "execution_count": null,
      "outputs": []
    }
  ]
}